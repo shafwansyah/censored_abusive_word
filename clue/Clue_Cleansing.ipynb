{
 "cells": [
  {
   "cell_type": "markdown",
   "id": "1b555b8c",
   "metadata": {},
   "source": [
    "# CLUE Cleansing Abusive dan Kamus Alay"
   ]
  },
  {
   "cell_type": "code",
   "execution_count": 1,
   "id": "fef4563b",
   "metadata": {},
   "outputs": [],
   "source": [
    "import pandas as pd"
   ]
  },
  {
   "cell_type": "markdown",
   "id": "2b3ae8a2",
   "metadata": {},
   "source": [
    "## Data Tweet"
   ]
  },
  {
   "cell_type": "code",
   "execution_count": 2,
   "id": "dd39c6c5",
   "metadata": {},
   "outputs": [
    {
     "data": {
      "text/html": [
       "<div>\n",
       "<style scoped>\n",
       "    .dataframe tbody tr th:only-of-type {\n",
       "        vertical-align: middle;\n",
       "    }\n",
       "\n",
       "    .dataframe tbody tr th {\n",
       "        vertical-align: top;\n",
       "    }\n",
       "\n",
       "    .dataframe thead th {\n",
       "        text-align: right;\n",
       "    }\n",
       "</style>\n",
       "<table border=\"1\" class=\"dataframe\">\n",
       "  <thead>\n",
       "    <tr style=\"text-align: right;\">\n",
       "      <th></th>\n",
       "      <th>Tweet</th>\n",
       "    </tr>\n",
       "  </thead>\n",
       "  <tbody>\n",
       "    <tr>\n",
       "      <th>0</th>\n",
       "      <td>KamU guanteeNG</td>\n",
       "    </tr>\n",
       "    <tr>\n",
       "      <th>1</th>\n",
       "      <td>Jelek KAMU</td>\n",
       "    </tr>\n",
       "    <tr>\n",
       "      <th>2</th>\n",
       "      <td>kamu ANJING</td>\n",
       "    </tr>\n",
       "    <tr>\n",
       "      <th>3</th>\n",
       "      <td>janjuk KAU</td>\n",
       "    </tr>\n",
       "    <tr>\n",
       "      <th>4</th>\n",
       "      <td>kamu piintaar</td>\n",
       "    </tr>\n",
       "  </tbody>\n",
       "</table>\n",
       "</div>"
      ],
      "text/plain": [
       "            Tweet\n",
       "0  KamU guanteeNG\n",
       "1      Jelek KAMU\n",
       "2     kamu ANJING\n",
       "3      janjuk KAU\n",
       "4   kamu piintaar"
      ]
     },
     "execution_count": 2,
     "metadata": {},
     "output_type": "execute_result"
    }
   ],
   "source": [
    "Tweet = {\n",
    "    'Tweet': ['KamU guanteeNG', 'Jelek KAMU', 'kamu ANJING', 'janjuk KAU','kamu piintaar']\n",
    "}\n",
    "\n",
    "Tweet = pd.DataFrame(Tweet, columns = ['Tweet'])\n",
    "\n",
    "\n",
    "Tweet.head()"
   ]
  },
  {
   "cell_type": "markdown",
   "id": "b8b80655",
   "metadata": {},
   "source": [
    "## Data Abusive"
   ]
  },
  {
   "cell_type": "code",
   "execution_count": 3,
   "id": "e01356bd",
   "metadata": {},
   "outputs": [
    {
     "data": {
      "text/html": [
       "<div>\n",
       "<style scoped>\n",
       "    .dataframe tbody tr th:only-of-type {\n",
       "        vertical-align: middle;\n",
       "    }\n",
       "\n",
       "    .dataframe tbody tr th {\n",
       "        vertical-align: top;\n",
       "    }\n",
       "\n",
       "    .dataframe thead th {\n",
       "        text-align: right;\n",
       "    }\n",
       "</style>\n",
       "<table border=\"1\" class=\"dataframe\">\n",
       "  <thead>\n",
       "    <tr style=\"text-align: right;\">\n",
       "      <th></th>\n",
       "      <th>Abusive</th>\n",
       "    </tr>\n",
       "  </thead>\n",
       "  <tbody>\n",
       "    <tr>\n",
       "      <th>0</th>\n",
       "      <td>Jelek</td>\n",
       "    </tr>\n",
       "    <tr>\n",
       "      <th>1</th>\n",
       "      <td>Anjing</td>\n",
       "    </tr>\n",
       "    <tr>\n",
       "      <th>2</th>\n",
       "      <td>Janjuk</td>\n",
       "    </tr>\n",
       "    <tr>\n",
       "      <th>3</th>\n",
       "      <td>Bodoh</td>\n",
       "    </tr>\n",
       "    <tr>\n",
       "      <th>4</th>\n",
       "      <td>Tai</td>\n",
       "    </tr>\n",
       "  </tbody>\n",
       "</table>\n",
       "</div>"
      ],
      "text/plain": [
       "  Abusive\n",
       "0   Jelek\n",
       "1  Anjing\n",
       "2  Janjuk\n",
       "3   Bodoh\n",
       "4     Tai"
      ]
     },
     "execution_count": 3,
     "metadata": {},
     "output_type": "execute_result"
    }
   ],
   "source": [
    "Abusive = {\n",
    "    'Abusive': ['Jelek', 'Anjing', 'Janjuk', 'Bodoh','Tai']\n",
    "}\n",
    "\n",
    "Abusive = pd.DataFrame(Abusive, columns = ['Abusive'])\n",
    "\n",
    "\n",
    "Abusive.head()"
   ]
  },
  {
   "cell_type": "markdown",
   "id": "c86cbc4f",
   "metadata": {},
   "source": [
    "## Data Kamus Alay"
   ]
  },
  {
   "cell_type": "code",
   "execution_count": 4,
   "id": "6d522c04",
   "metadata": {},
   "outputs": [
    {
     "data": {
      "text/html": [
       "<div>\n",
       "<style scoped>\n",
       "    .dataframe tbody tr th:only-of-type {\n",
       "        vertical-align: middle;\n",
       "    }\n",
       "\n",
       "    .dataframe tbody tr th {\n",
       "        vertical-align: top;\n",
       "    }\n",
       "\n",
       "    .dataframe thead th {\n",
       "        text-align: right;\n",
       "    }\n",
       "</style>\n",
       "<table border=\"1\" class=\"dataframe\">\n",
       "  <thead>\n",
       "    <tr style=\"text-align: right;\">\n",
       "      <th></th>\n",
       "      <th>Alay</th>\n",
       "      <th>Alay_Fix</th>\n",
       "    </tr>\n",
       "  </thead>\n",
       "  <tbody>\n",
       "    <tr>\n",
       "      <th>0</th>\n",
       "      <td>guanteeng</td>\n",
       "      <td>ganteng</td>\n",
       "    </tr>\n",
       "    <tr>\n",
       "      <th>1</th>\n",
       "      <td>piintaar</td>\n",
       "      <td>pintar</td>\n",
       "    </tr>\n",
       "    <tr>\n",
       "      <th>2</th>\n",
       "      <td>cuantiik</td>\n",
       "      <td>cantik</td>\n",
       "    </tr>\n",
       "    <tr>\n",
       "      <th>3</th>\n",
       "      <td>tajir</td>\n",
       "      <td>kaya</td>\n",
       "    </tr>\n",
       "  </tbody>\n",
       "</table>\n",
       "</div>"
      ],
      "text/plain": [
       "        Alay Alay_Fix\n",
       "0  guanteeng  ganteng\n",
       "1   piintaar   pintar\n",
       "2   cuantiik   cantik\n",
       "3      tajir     kaya"
      ]
     },
     "execution_count": 4,
     "metadata": {},
     "output_type": "execute_result"
    }
   ],
   "source": [
    "Alay = {\n",
    "    'Alay': ['guanteeng', 'piintaar', 'cuantiik', 'tajir'],\n",
    "    'Alay_Fix' : ['ganteng', 'pintar', 'cantik' , 'kaya']\n",
    "}\n",
    "\n",
    "Alay = pd.DataFrame(Alay, columns = ['Alay' , 'Alay_Fix' ])\n",
    "\n",
    "\n",
    "Alay.head()"
   ]
  },
  {
   "cell_type": "code",
   "execution_count": null,
   "id": "b1ade35b",
   "metadata": {},
   "outputs": [],
   "source": []
  },
  {
   "cell_type": "markdown",
   "id": "e63a17df",
   "metadata": {},
   "source": [
    "## Cleansing Tweet terhadap abusive"
   ]
  },
  {
   "cell_type": "code",
   "execution_count": 5,
   "id": "e11836f9",
   "metadata": {},
   "outputs": [
    {
     "data": {
      "text/plain": [
       "['jelek', 'anjing', 'janjuk', 'bodoh', 'tai']"
      ]
     },
     "execution_count": 5,
     "metadata": {},
     "output_type": "execute_result"
    }
   ],
   "source": [
    "list_abusive = Abusive['Abusive'].str.lower().tolist()\n",
    "list_abusive"
   ]
  },
  {
   "cell_type": "code",
   "execution_count": 6,
   "id": "4d5955eb",
   "metadata": {},
   "outputs": [
    {
     "data": {
      "text/plain": [
       "['kamu guanteeng', 'jelek kamu', 'kamu anjing', 'janjuk kau', 'kamu piintaar']"
      ]
     },
     "execution_count": 6,
     "metadata": {},
     "output_type": "execute_result"
    }
   ],
   "source": [
    "list_tweet = Tweet['Tweet'].str.lower().tolist()\n",
    "list_tweet"
   ]
  },
  {
   "cell_type": "code",
   "execution_count": 7,
   "id": "856b332a",
   "metadata": {},
   "outputs": [
    {
     "data": {
      "text/plain": [
       "['kamu guanteeng',\n",
       " '**censored** kamu',\n",
       " 'kamu **censored**',\n",
       " '**censored** kau',\n",
       " 'kamu piintaar']"
      ]
     },
     "execution_count": 7,
     "metadata": {},
     "output_type": "execute_result"
    }
   ],
   "source": [
    "for i in list_tweet:\n",
    "    for j in list_abusive:\n",
    "        if j in i:\n",
    "            list_tweet[list_tweet.index(i)] = list_tweet[list_tweet.index(i)].replace(j,'**censored**')\n",
    "\n",
    "list_tweet"
   ]
  },
  {
   "cell_type": "markdown",
   "id": "923729d2",
   "metadata": {},
   "source": [
    "## Cleansing Tweet terhadap kamus alay"
   ]
  },
  {
   "cell_type": "code",
   "execution_count": 8,
   "id": "f7ef85d1",
   "metadata": {},
   "outputs": [
    {
     "data": {
      "text/plain": [
       "['guanteeng', 'piintaar', 'cuantiik', 'tajir']"
      ]
     },
     "execution_count": 8,
     "metadata": {},
     "output_type": "execute_result"
    }
   ],
   "source": [
    "list_alay = Alay['Alay'].str.lower().tolist()\n",
    "list_alay"
   ]
  },
  {
   "cell_type": "code",
   "execution_count": 9,
   "id": "db80f503",
   "metadata": {},
   "outputs": [
    {
     "data": {
      "text/plain": [
       "['ganteng', 'pintar', 'cantik', 'kaya']"
      ]
     },
     "execution_count": 9,
     "metadata": {},
     "output_type": "execute_result"
    }
   ],
   "source": [
    "list_alay_fix = Alay['Alay_Fix'].str.lower().tolist()\n",
    "list_alay_fix"
   ]
  },
  {
   "cell_type": "code",
   "execution_count": 10,
   "id": "9f22b6df",
   "metadata": {},
   "outputs": [
    {
     "data": {
      "text/plain": [
       "['kamu guanteeng', 'jelek kamu', 'kamu anjing', 'janjuk kau', 'kamu piintaar']"
      ]
     },
     "execution_count": 10,
     "metadata": {},
     "output_type": "execute_result"
    }
   ],
   "source": [
    "list_tweet = Tweet['Tweet'].str.lower().tolist()\n",
    "list_tweet"
   ]
  },
  {
   "cell_type": "code",
   "execution_count": 11,
   "id": "cf20455b",
   "metadata": {},
   "outputs": [
    {
     "data": {
      "text/plain": [
       "['kamu ganteng', 'jelek kamu', 'kamu anjing', 'janjuk kau', 'kamu pintar']"
      ]
     },
     "execution_count": 11,
     "metadata": {},
     "output_type": "execute_result"
    }
   ],
   "source": [
    "for i in list_tweet:\n",
    "    for j in list_alay:\n",
    "        if j in i:\n",
    "            a = list_alay.index(j)\n",
    "            list_tweet[list_tweet.index(i)] = list_tweet[list_tweet.index(i)].replace(j,list_alay_fix[a])\n",
    "            \n",
    "list_tweet"
   ]
  },
  {
   "cell_type": "code",
   "execution_count": null,
   "id": "b0526ca0",
   "metadata": {},
   "outputs": [],
   "source": []
  },
  {
   "cell_type": "markdown",
   "id": "1e1ba160",
   "metadata": {},
   "source": [
    "# **Tugas nya**\n",
    "\n",
    "Diatas ada clue untuk cleansing data abusive dan kamus_alay, berdasarkan clue di atas coba teman teman gabungkan menjadi\n",
    "\n",
    "\"*Cleansing Tweet terhadap data abusive dan kamus alay*\"\n",
    "\n",
    "Jika berhasil bisa teman teman terapkan pada challege gold cleansing nya"
   ]
  },
  {
   "cell_type": "code",
   "execution_count": null,
   "id": "17d616c5",
   "metadata": {},
   "outputs": [],
   "source": []
  },
  {
   "cell_type": "code",
   "execution_count": null,
   "id": "517f6721",
   "metadata": {},
   "outputs": [],
   "source": []
  }
 ],
 "metadata": {
  "kernelspec": {
   "display_name": "Python 3.10.6 64-bit",
   "language": "python",
   "name": "python3"
  },
  "language_info": {
   "codemirror_mode": {
    "name": "ipython",
    "version": 3
   },
   "file_extension": ".py",
   "mimetype": "text/x-python",
   "name": "python",
   "nbconvert_exporter": "python",
   "pygments_lexer": "ipython3",
   "version": "3.10.6"
  },
  "vscode": {
   "interpreter": {
    "hash": "369f2c481f4da34e4445cda3fffd2e751bd1c4d706f27375911949ba6bb62e1c"
   }
  }
 },
 "nbformat": 4,
 "nbformat_minor": 5
}
